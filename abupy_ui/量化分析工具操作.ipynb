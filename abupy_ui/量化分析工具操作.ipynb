{
 "cells": [
  {
   "cell_type": "markdown",
   "metadata": {},
   "source": [
    "### 点击上方的运行按钮，启动回测操作界面，如下图所示：\n",
    "\n",
    "![](./run_cell.png)"
   ]
  },
  {
   "cell_type": "code",
   "execution_count": 2,
   "metadata": {
    "scrolled": false
   },
   "outputs": [
    {
     "data": {
      "text/html": [
       "<div>\n",
       "<style scoped>\n",
       "    .dataframe tbody tr th:only-of-type {\n",
       "        vertical-align: middle;\n",
       "    }\n",
       "\n",
       "    .dataframe tbody tr th {\n",
       "        vertical-align: top;\n",
       "    }\n",
       "\n",
       "    .dataframe thead th {\n",
       "        text-align: right;\n",
       "    }\n",
       "</style>\n",
       "<table border=\"1\" class=\"dataframe\">\n",
       "  <thead>\n",
       "    <tr style=\"text-align: right;\">\n",
       "      <th></th>\n",
       "      <th>sh600036wave</th>\n",
       "      <th>sh600809wave</th>\n",
       "      <th>hk00700wave</th>\n",
       "      <th>hk03333wave</th>\n",
       "    </tr>\n",
       "    <tr>\n",
       "      <th>date_week</th>\n",
       "      <th></th>\n",
       "      <th></th>\n",
       "      <th></th>\n",
       "      <th></th>\n",
       "    </tr>\n",
       "  </thead>\n",
       "  <tbody>\n",
       "    <tr>\n",
       "      <th>周一</th>\n",
       "      <td>2.2163</td>\n",
       "      <td>3.7908</td>\n",
       "      <td>1.7171</td>\n",
       "      <td>4.0496</td>\n",
       "    </tr>\n",
       "    <tr>\n",
       "      <th>周二</th>\n",
       "      <td>1.9376</td>\n",
       "      <td>3.7302</td>\n",
       "      <td>1.6632</td>\n",
       "      <td>3.1920</td>\n",
       "    </tr>\n",
       "    <tr>\n",
       "      <th>周三</th>\n",
       "      <td>1.8593</td>\n",
       "      <td>3.2881</td>\n",
       "      <td>1.7924</td>\n",
       "      <td>3.8275</td>\n",
       "    </tr>\n",
       "    <tr>\n",
       "      <th>周四</th>\n",
       "      <td>1.9137</td>\n",
       "      <td>3.3742</td>\n",
       "      <td>1.7573</td>\n",
       "      <td>3.4041</td>\n",
       "    </tr>\n",
       "    <tr>\n",
       "      <th>周五</th>\n",
       "      <td>1.7814</td>\n",
       "      <td>3.1820</td>\n",
       "      <td>1.5670</td>\n",
       "      <td>3.2088</td>\n",
       "    </tr>\n",
       "  </tbody>\n",
       "</table>\n",
       "</div>"
      ],
      "text/plain": [
       "           sh600036wave  sh600809wave  hk00700wave  hk03333wave\n",
       "date_week                                                      \n",
       "周一               2.2163        3.7908       1.7171       4.0496\n",
       "周二               1.9376        3.7302       1.6632       3.1920\n",
       "周三               1.8593        3.2881       1.7924       3.8275\n",
       "周四               1.9137        3.3742       1.7573       3.4041\n",
       "周五               1.7814        3.1820       1.5670       3.2088"
      ]
     },
     "metadata": {},
     "output_type": "display_data"
    }
   ],
   "source": [
    "%matplotlib inline\n",
    "import widget_quant_tool\n",
    "widget_quant_tool.show_ui()"
   ]
  },
  {
   "cell_type": "markdown",
   "metadata": {},
   "source": [
    "[abu量化系统github地址](https://github.com/bbfamily/abu) (您的star是我的动力！)\n",
    "\n",
    "[更多阿布量化量化技术文章](http://www.abuquant.com/article)\n",
    "\n",
    "更多关于量化交易相关请阅读[《量化交易之路》](http://www.abuquant.com/books/quantify-trading-road.html)\n",
    "\n",
    "更多关于量化交易与机器学习相关请阅读[《机器学习之路》](http://www.abuquant.com/books/machine-learning-road.html)\n",
    "\n",
    "更多关于abu量化系统请关注微信公众号: abu_quant\n",
    "\n",
    "![](../abupy_lecture/image/qrcode.jpg)"
   ]
  },
  {
   "cell_type": "code",
   "execution_count": null,
   "metadata": {},
   "outputs": [],
   "source": []
  }
 ],
 "metadata": {
  "kernelspec": {
   "display_name": "Python 3",
   "language": "python",
   "name": "python3"
  },
  "language_info": {
   "codemirror_mode": {
    "name": "ipython",
    "version": 3
   },
   "file_extension": ".py",
   "mimetype": "text/x-python",
   "name": "python",
   "nbconvert_exporter": "python",
   "pygments_lexer": "ipython3",
   "version": "3.7.0"
  },
  "toc": {
   "base_numbering": 1,
   "nav_menu": {},
   "number_sections": true,
   "sideBar": true,
   "skip_h1_title": false,
   "title_cell": "Table of Contents",
   "title_sidebar": "Contents",
   "toc_cell": false,
   "toc_position": {},
   "toc_section_display": true,
   "toc_window_display": false
  }
 },
 "nbformat": 4,
 "nbformat_minor": 2
}
